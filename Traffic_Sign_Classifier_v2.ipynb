{
 "cells": [
  {
   "cell_type": "markdown",
   "metadata": {},
   "source": [
    "# Self-Driving Car Engineer Nanodegree\n",
    "\n",
    "## Deep Learning\n",
    "\n",
    "## Project: Build a Traffic Sign Recognition Classifier\n",
    "\n",
    "In this notebook, a template is provided for you to implement your functionality in stages, which is required to successfully complete this project. If additional code is required that cannot be included in the notebook, be sure that the Python code is successfully imported and included in your submission if necessary. \n",
    "\n",
    "> **Note**: Once you have completed all of the code implementations, you need to finalize your work by exporting the iPython Notebook as an HTML document. Before exporting the notebook to html, all of the code cells need to have been run so that reviewers can see the final implementation and output. You can then export the notebook by using the menu above and navigating to  \\n\",\n",
    "    \"**File -> Download as -> HTML (.html)**. Include the finished document along with this notebook as your submission. \n",
    "\n",
    "In addition to implementing code, there is a writeup to complete. The writeup should be completed in a separate file, which can be either a markdown file or a pdf document. There is a [write up template](https://github.com/udacity/CarND-Traffic-Sign-Classifier-Project/blob/master/writeup_template.md) that can be used to guide the writing process. Completing the code template and writeup template will cover all of the [rubric points](https://review.udacity.com/#!/rubrics/481/view) for this project.\n",
    "\n",
    "The [rubric](https://review.udacity.com/#!/rubrics/481/view) contains \"Stand Out Suggestions\" for enhancing the project beyond the minimum requirements. The stand out suggestions are optional. If you decide to pursue the \"stand out suggestions\", you can include the code in this Ipython notebook and also discuss the results in the writeup file.\n",
    "\n",
    "\n",
    ">**Note:** Code and Markdown cells can be executed using the **Shift + Enter** keyboard shortcut. In addition, Markdown cells can be edited by typically double-clicking the cell to enter edit mode."
   ]
  },
  {
   "cell_type": "markdown",
   "metadata": {},
   "source": [
    "---\n",
    "## Step 0: Load The Data"
   ]
  },
  {
   "cell_type": "code",
   "execution_count": 1,
   "metadata": {
    "collapsed": true
   },
   "outputs": [],
   "source": [
    "# Load pickled data\n",
    "import pickle\n",
    "from scipy.misc import imread\n",
    "# TODO: Fill this in based on where you saved the training and testing data\n",
    "\n",
    "training_file = './train.p'\n",
    "validation_file= './valid.p'\n",
    "testing_file = './test.p'\n",
    "\n",
    "with open(training_file, mode='rb') as f:\n",
    "    train = pickle.load(f)\n",
    "with open(validation_file, mode='rb') as f:\n",
    "    valid = pickle.load(f)\n",
    "with open(testing_file, mode='rb') as f:\n",
    "    test = pickle.load(f)\n",
    "    \n",
    "X_train, y_train = train['features'], train['labels']\n",
    "X_valid, y_valid = valid['features'], valid['labels']\n",
    "X_test, y_test = test['features'], test['labels']\n"
   ]
  },
  {
   "cell_type": "markdown",
   "metadata": {},
   "source": [
    "---\n",
    "\n",
    "## Step 1: Dataset Summary & Exploration\n",
    "\n",
    "The pickled data is a dictionary with 4 key/value pairs:\n",
    "\n",
    "- `'features'` is a 4D array containing raw pixel data of the traffic sign images, (num examples, width, height, channels).\n",
    "- `'labels'` is a 1D array containing the label/class id of the traffic sign. The file `signnames.csv` contains id -> name mappings for each id.\n",
    "- `'sizes'` is a list containing tuples, (width, height) representing the original width and height the image.\n",
    "- `'coords'` is a list containing tuples, (x1, y1, x2, y2) representing coordinates of a bounding box around the sign in the image. **THESE COORDINATES ASSUME THE ORIGINAL IMAGE. THE PICKLED DATA CONTAINS RESIZED VERSIONS (32 by 32) OF THESE IMAGES**\n",
    "\n",
    "Complete the basic data summary below. Use python, numpy and/or pandas methods to calculate the data summary rather than hard coding the results. For example, the [pandas shape method](http://pandas.pydata.org/pandas-docs/stable/generated/pandas.DataFrame.shape.html) might be useful for calculating some of the summary results. "
   ]
  },
  {
   "cell_type": "markdown",
   "metadata": {},
   "source": [
    "### Provide a Basic Summary of the Data Set Using Python, Numpy and/or Pandas"
   ]
  },
  {
   "cell_type": "code",
   "execution_count": 2,
   "metadata": {},
   "outputs": [
    {
     "name": "stdout",
     "output_type": "stream",
     "text": [
      "Number of training examples = 34799\n",
      "Number of testing examples = 12630\n",
      "Image data shape = (32, 32, 3)\n",
      "Number of classes = 43\n"
     ]
    }
   ],
   "source": [
    "### Replace each question mark with the appropriate value. \n",
    "### Use python, pandas or numpy methods rather than hard coding the results\n",
    "import numpy as np\n",
    "# TODO: Number of training examples\n",
    "\n",
    "n_train = np.size(X_train, 0)\n",
    "\n",
    "# TODO: Number of validation examples\n",
    "n_validation = np.size(X_valid, 0)\n",
    "\n",
    "# TODO: Number of testing examples.\n",
    "n_test = np.size(X_test, 0)\n",
    "\n",
    "# TODO: What's the shape of an traffic sign image?\n",
    "image_shape = np.shape(X_train[0])\n",
    "\n",
    "# TODO: How many unique classes/labels there are in the dataset.\n",
    "n_classes = len(list(set(y_train)))\n",
    "\n",
    "print(\"Number of training examples =\", n_train)\n",
    "print(\"Number of testing examples =\", n_test)\n",
    "print(\"Image data shape =\", image_shape)\n",
    "print(\"Number of classes =\", n_classes)"
   ]
  },
  {
   "cell_type": "markdown",
   "metadata": {},
   "source": [
    "### Include an exploratory visualization of the dataset"
   ]
  },
  {
   "cell_type": "markdown",
   "metadata": {},
   "source": [
    "Visualize the German Traffic Signs Dataset using the pickled file(s). This is open ended, suggestions include: plotting traffic sign images, plotting the count of each sign, etc. \n",
    "\n",
    "The [Matplotlib](http://matplotlib.org/) [examples](http://matplotlib.org/examples/index.html) and [gallery](http://matplotlib.org/gallery.html) pages are a great resource for doing visualizations in Python.\n",
    "\n",
    "**NOTE:** It's recommended you start with something simple first. If you wish to do more, come back to it after you've completed the rest of the sections. It can be interesting to look at the distribution of classes in the training, validation and test set. Is the distribution the same? Are there more examples of some classes than others?"
   ]
  },
  {
   "cell_type": "code",
   "execution_count": 3,
   "metadata": {},
   "outputs": [
    {
     "name": "stdout",
     "output_type": "stream",
     "text": [
      "23\n"
     ]
    },
    {
     "data": {
      "image/png": "[encoded data removed]",
      "text/plain": [
       "<matplotlib.figure.Figure at 0x7f0b10507198>"
      ]
     },
     "metadata": {},
     "output_type": "display_data"
    }
   ],
   "source": [
    "### Data exploration visualization code goes here.\n",
    "### Feel free to use as many code cells as needed.\n",
    "import matplotlib.pyplot as plt\n",
    "import random\n",
    "# Visualizations will be shown in the notebook.\n",
    "%matplotlib inline\n",
    "index = random.randint(0, len(X_train))\n",
    "img = X_train[index].squeeze()\n",
    "\n",
    "plt.figure(figsize = (1,1))\n",
    "plt.imshow(img)\n",
    "print(y_train[index])"
   ]
  },
  {
   "cell_type": "code",
   "execution_count": 4,
   "metadata": {},
   "outputs": [
    {
     "data": {
      "text/plain": [
       "(array([  180.,  1980.,  2010.,  1260.,  1770.,  1650.,   360.,  1290.,\n",
       "         1260.,  1320.,  1800.,  1170.,  1890.,  1920.,   690.,   540.,\n",
       "          360.,   990.,  1080.,   180.,   300.,   270.,   330.,   450.,\n",
       "          240.,  1350.,   540.,   210.,   480.,   240.,   390.,   690.,\n",
       "          210.,   599.,   360.,  1080.,   330.,   180.,  1860.,   270.,\n",
       "          300.,   210.,   210.]),\n",
       " array([  0.        ,   0.97674419,   1.95348837,   2.93023256,\n",
       "          3.90697674,   4.88372093,   5.86046512,   6.8372093 ,\n",
       "          7.81395349,   8.79069767,   9.76744186,  10.74418605,\n",
       "         11.72093023,  12.69767442,  13.6744186 ,  14.65116279,\n",
       "         15.62790698,  16.60465116,  17.58139535,  18.55813953,\n",
       "         19.53488372,  20.51162791,  21.48837209,  22.46511628,\n",
       "         23.44186047,  24.41860465,  25.39534884,  26.37209302,\n",
       "         27.34883721,  28.3255814 ,  29.30232558,  30.27906977,\n",
       "         31.25581395,  32.23255814,  33.20930233,  34.18604651,\n",
       "         35.1627907 ,  36.13953488,  37.11627907,  38.09302326,\n",
       "         39.06976744,  40.04651163,  41.02325581,  42.        ]),\n",
       " <a list of 43 Patch objects>)"
      ]
     },
     "execution_count": 4,
     "metadata": {},
     "output_type": "execute_result"
    },
    {
     "data": {
      "image/png": "[encoded data removed]",
      "text/plain": [
       "<matplotlib.figure.Figure at 0x7f0b104f14e0>"
      ]
     },
     "metadata": {},
     "output_type": "display_data"
    }
   ],
   "source": [
    "# Data visualization using histograms \n",
    "plt.hist(y_train, bins=n_classes)"
   ]
  },
  {
   "cell_type": "code",
   "execution_count": 5,
   "metadata": {},
   "outputs": [
    {
     "data": {
      "text/plain": [
       "(array([  30.,  240.,  240.,  150.,  210.,  210.,   60.,  150.,  150.,\n",
       "         150.,  210.,  150.,  210.,  240.,   90.,   90.,   60.,  120.,\n",
       "         120.,   30.,   60.,   60.,   60.,   60.,   30.,  150.,   60.,\n",
       "          30.,   60.,   30.,   60.,   90.,   30.,   90.,   60.,  120.,\n",
       "          60.,   30.,  210.,   30.,   60.,   30.,   30.]),\n",
       " array([  0.        ,   0.97674419,   1.95348837,   2.93023256,\n",
       "          3.90697674,   4.88372093,   5.86046512,   6.8372093 ,\n",
       "          7.81395349,   8.79069767,   9.76744186,  10.74418605,\n",
       "         11.72093023,  12.69767442,  13.6744186 ,  14.65116279,\n",
       "         15.62790698,  16.60465116,  17.58139535,  18.55813953,\n",
       "         19.53488372,  20.51162791,  21.48837209,  22.46511628,\n",
       "         23.44186047,  24.41860465,  25.39534884,  26.37209302,\n",
       "         27.34883721,  28.3255814 ,  29.30232558,  30.27906977,\n",
       "         31.25581395,  32.23255814,  33.20930233,  34.18604651,\n",
       "         35.1627907 ,  36.13953488,  37.11627907,  38.09302326,\n",
       "         39.06976744,  40.04651163,  41.02325581,  42.        ]),\n",
       " <a list of 43 Patch objects>)"
      ]
     },
     "execution_count": 5,
     "metadata": {},
     "output_type": "execute_result"
    },
    {
     "data": {
      "image/png": "[encoded data removed]",
      "text/plain": [
       "<matplotlib.figure.Figure at 0x7f0ad7ff9ba8>"
      ]
     },
     "metadata": {},
     "output_type": "display_data"
    }
   ],
   "source": [
    "plt.hist(y_valid, bins=n_classes)"
   ]
  },
  {
   "cell_type": "code",
   "execution_count": 6,
   "metadata": {},
   "outputs": [
    {
     "data": {
      "text/plain": [
       "(array([  60.,  720.,  750.,  450.,  660.,  630.,  150.,  450.,  450.,\n",
       "         480.,  660.,  420.,  690.,  720.,  270.,  210.,  150.,  360.,\n",
       "         390.,   60.,   90.,   90.,  120.,  150.,   90.,  480.,  180.,\n",
       "          60.,  150.,   90.,  150.,  270.,   60.,  210.,  120.,  390.,\n",
       "         120.,   60.,  690.,   90.,   90.,   60.,   90.]),\n",
       " array([  0.        ,   0.97674419,   1.95348837,   2.93023256,\n",
       "          3.90697674,   4.88372093,   5.86046512,   6.8372093 ,\n",
       "          7.81395349,   8.79069767,   9.76744186,  10.74418605,\n",
       "         11.72093023,  12.69767442,  13.6744186 ,  14.65116279,\n",
       "         15.62790698,  16.60465116,  17.58139535,  18.55813953,\n",
       "         19.53488372,  20.51162791,  21.48837209,  22.46511628,\n",
       "         23.44186047,  24.41860465,  25.39534884,  26.37209302,\n",
       "         27.34883721,  28.3255814 ,  29.30232558,  30.27906977,\n",
       "         31.25581395,  32.23255814,  33.20930233,  34.18604651,\n",
       "         35.1627907 ,  36.13953488,  37.11627907,  38.09302326,\n",
       "         39.06976744,  40.04651163,  41.02325581,  42.        ]),\n",
       " <a list of 43 Patch objects>)"
      ]
     },
     "execution_count": 6,
     "metadata": {},
     "output_type": "execute_result"
    },
    {
     "data": {
      "image/png": "[encoded data removed]",
      "text/plain": [
       "<matplotlib.figure.Figure at 0x7f0ad7f8b4e0>"
      ]
     },
     "metadata": {},
     "output_type": "display_data"
    }
   ],
   "source": [
    "plt.hist(y_test, bins=n_classes)"
   ]
  },
  {
   "cell_type": "markdown",
   "metadata": {},
   "source": [
    "----\n",
    "\n",
    "## Step 2: Design and Test a Model Architecture\n",
    "\n",
    "Design and implement a deep learning model that learns to recognize traffic signs. Train and test your model on the [German Traffic Sign Dataset](http://benchmark.ini.rub.de/?section=gtsrb&subsection=dataset).\n",
    "\n",
    "The LeNet-5 implementation shown in the [classroom](https://classroom.udacity.com/nanodegrees/nd013/parts/fbf77062-5703-404e-b60c-95b78b2f3f9e/modules/6df7ae49-c61c-4bb2-a23e-6527e69209ec/lessons/601ae704-1035-4287-8b11-e2c2716217ad/concepts/d4aca031-508f-4e0b-b493-e7b706120f81) at the end of the CNN lesson is a solid starting point. You'll have to change the number of classes and possibly the preprocessing, but aside from that it's plug and play! \n",
    "\n",
    "With the LeNet-5 solution from the lecture, you should expect a validation set accuracy of about 0.89. To meet specifications, the validation set accuracy will need to be at least 0.93. It is possible to get an even higher accuracy, but 0.93 is the minimum for a successful project submission. \n",
    "\n",
    "There are various aspects to consider when thinking about this problem:\n",
    "\n",
    "- Neural network architecture (is the network over or underfitting?)\n",
    "- Play around preprocessing techniques (normalization, rgb to grayscale, etc)\n",
    "- Number of examples per label (some have more than others).\n",
    "- Generate fake data.\n",
    "\n",
    "Here is an example of a [published baseline model on this problem](http://yann.lecun.com/exdb/publis/pdf/sermanet-ijcnn-11.pdf). It's not required to be familiar with the approach used in the paper but, it's good practice to try to read papers like these."
   ]
  },
  {
   "cell_type": "markdown",
   "metadata": {},
   "source": [
    "### Pre-process the Data Set (normalization, grayscale, etc.)"
   ]
  },
  {
   "cell_type": "markdown",
   "metadata": {},
   "source": [
    "Minimally, the image data should be normalized so that the data has mean zero and equal variance. For image data, `(pixel - 128)/ 128` is a quick way to approximately normalize the data and can be used in this project. \n",
    "\n",
    "Other pre-processing steps are optional. You can try different techniques to see if it improves performance. \n",
    "\n",
    "Use the code cell (or multiple code cells, if necessary) to implement the first step of your project."
   ]
  },
  {
   "cell_type": "code",
   "execution_count": 7,
   "metadata": {
    "collapsed": true
   },
   "outputs": [],
   "source": [
    "### Preprocess the data here. It is required to normalize the data. Other preprocessing steps could include \n",
    "### converting to grayscale, etc.\n",
    "### Feel free to use as many code cells as needed.\n",
    "# transformation from RGB to YUV\n",
    "def rgb2yuv(X_data):\n",
    "    X_data = X_data.astype(float)\n",
    "    R = X_data[:, :, :, 0]\n",
    "    G = X_data[:, :, :, 1]\n",
    "    B = X_data[:, :, :, 2]\n",
    "    \n",
    "    Y = 0.299* R + 0.587*G + 0.114*B\n",
    "    U = 0.492*(B - Y)\n",
    "    V = 0.877*(R - Y)\n",
    "    \n",
    "    Y = (Y-128)/128\n",
    "    U = U/128\n",
    "    V = V/128\n",
    "    newdata = np.stack((Y,U,V), axis=3)\n",
    "    return newdata\n",
    "\n",
    "def rgb2yuvsingle(img):\n",
    "    img = img.astype(float)\n",
    "    R = img[:, :, 0]\n",
    "    G = img[:, :, 1]\n",
    "    B = img[:, :, 2]\n",
    "    \n",
    "    Y = 0.299* R + 0.587*G + 0.114*B\n",
    "    U = 0.492*(B - Y)\n",
    "    V = 0.877*(R - Y)\n",
    "    \n",
    "    Y = (Y-128)/128\n",
    "    U = U/128\n",
    "    V = V/128\n",
    "    newdata = np.stack((Y,U,V), axis=2)\n",
    "    return newdata\n",
    "  \n"
   ]
  },
  {
   "cell_type": "code",
   "execution_count": null,
   "metadata": {
    "collapsed": true
   },
   "outputs": [],
   "source": [
    "# testing what the image looks like\n",
    "index = random.randint(0, len(X_train))\n",
    "img = X_train[index].squeeze()\n",
    "img_yuv = X_train_yuv[index].squeeze()\n",
    "img_yuv = img_yuv[:,:,1]\n",
    "plt.figure(figsize = (1,1))\n",
    "plt.imshow(img_yuv)\n",
    "#plt.imshow(img)\n",
    "#print(img_yuv)\n",
    "print(y_train[index])"
   ]
  },
  {
   "cell_type": "code",
   "execution_count": null,
   "metadata": {
    "collapsed": true
   },
   "outputs": [],
   "source": [
    "# we provide two normalization schemes: scheme 1: direct normalization\n",
    "# transformation of the data types and do normalization\n",
    "def uint2float(X_data):\n",
    "    X_data = X_data.astype(float)\n",
    "    X_data = (X_data-128)/128\n",
    "    return X_data\n",
    "\n",
    "X_train_norm = uint2float(X_train)\n",
    "X_valid_norm = uint2float(X_valid)\n",
    "X_test_norm = uint2float(X_test)"
   ]
  },
  {
   "cell_type": "code",
   "execution_count": 8,
   "metadata": {
    "collapsed": true
   },
   "outputs": [],
   "source": [
    "# Normalization scheme 2: transformation to YUV domain and then apply normalization\n",
    "# batch transformation from RGB to YUV\n",
    "X_train_norm  = rgb2yuv(X_train)\n",
    "X_valid_norm = rgb2yuv(X_valid)\n",
    "X_test_norm = rgb2yuv(X_test)\n",
    "\n"
   ]
  },
  {
   "cell_type": "markdown",
   "metadata": {},
   "source": [
    "### Model Architecture"
   ]
  },
  {
   "cell_type": "code",
   "execution_count": 9,
   "metadata": {
    "collapsed": true
   },
   "outputs": [],
   "source": [
    "### Define your architecture here.\n",
    "### Feel free to use as many code cells as needed.\n",
    "import tensorflow as tf\n",
    "from sklearn.utils import shuffle\n",
    "from tensorflow.contrib.layers import flatten\n",
    "\n",
    "# input x is an image testing using LeNet\n",
    "# LeNet architecture:\n",
    "# INPUT -> CONV -> ACT -> POOL -> CONV -> ACT -> POOL -> FLATTEN -> FC -> ACT -> FC\n",
    "\n",
    "def LeNet(x):    \n",
    "    # Hyperparameters\n",
    "    mu = 0\n",
    "    sigma = 0.1\n",
    "\n",
    "    # SOLUTION: Layer 1: Convolutional. Input = 32 x 32 x 3. Output = 28x28x6.\n",
    "    conv1_W = tf.Variable(tf.truncated_normal(shape=(5, 5, 3, 6), mean = mu, stddev = sigma))\n",
    "    conv1_b = tf.Variable(tf.zeros(6))\n",
    "    conv1   = tf.nn.conv2d(x, conv1_W, strides=[1, 1, 1, 1], padding='VALID') + conv1_b\n",
    "\n",
    "    # SOLUTION: Activation.\n",
    "    conv1 = tf.nn.relu(conv1)\n",
    "\n",
    "    # SOLUTION: Pooling. Input = 28x28x6. Output = 14x14x6.\n",
    "    conv1 = tf.nn.max_pool(conv1, ksize=[1, 2, 2, 1], strides=[1, 2, 2, 1], padding='VALID')\n",
    "\n",
    "    # SOLUTION: Layer 2: Convolutional. Output = 10x10x16.\n",
    "    conv2_W = tf.Variable(tf.truncated_normal(shape=(5, 5, 6, 16), mean = mu, stddev = sigma))\n",
    "    conv2_b = tf.Variable(tf.zeros(16))\n",
    "    conv2   = tf.nn.conv2d(conv1, conv2_W, strides=[1, 1, 1, 1], padding='VALID') + conv2_b\n",
    "\n",
    "    # SOLUTION: Activation.\n",
    "    conv2 = tf.nn.relu(conv2)\n",
    "\n",
    "    # SOLUTION: Pooling. Input = 10x10x16. Output = 5x5x16.\n",
    "    conv2 = tf.nn.max_pool(conv2, ksize=[1, 2, 2, 1], strides=[1, 2, 2, 1], padding='VALID')\n",
    "\n",
    "    # SOLUTION: Flatten. Input = 5x5x16. Output = 400.\n",
    "    fc0   = flatten(conv2)\n",
    "\n",
    "    # SOLUTION: Layer 3: Fully Connected. Input = 400. Output = 120.\n",
    "    fc1_W = tf.Variable(tf.truncated_normal(shape=(400, 120), mean = mu, stddev = sigma))\n",
    "    fc1_b = tf.Variable(tf.zeros(120))\n",
    "    fc1   = tf.matmul(fc0, fc1_W) + fc1_b\n",
    "    fc1 = tf.nn.dropout(fc1, keep_prob=0.5)\n",
    "\n",
    "    # SOLUTION: Activation.\n",
    "    fc1    = tf.nn.relu(fc1)\n",
    "\n",
    "    # SOLUTION: Layer 4: Fully Connected. Input = 120. Output = 84.\n",
    "    fc2_W  = tf.Variable(tf.truncated_normal(shape=(120, 84), mean = mu, stddev = sigma))\n",
    "    fc2_b  = tf.Variable(tf.zeros(84))\n",
    "    fc2    = tf.matmul(fc1, fc2_W) + fc2_b\n",
    "    fc2 = tf.nn.dropout(fc2, keep_prob=0.5)\n",
    "\n",
    "    # SOLUTION: Activation.\n",
    "    fc2    = tf.nn.relu(fc2)\n",
    "\n",
    "    # SOLUTION: Layer 5: Fully Connected. Input = 84. Output = n_classes.\n",
    "    fc3_W  = tf.Variable(tf.truncated_normal(shape=(84, n_classes), mean = mu, stddev = sigma))\n",
    "    fc3_b  = tf.Variable(tf.zeros(n_classes))\n",
    "    logits = tf.matmul(fc2, fc3_W) + fc3_b\n",
    "    return logits"
   ]
  },
  {
   "cell_type": "code",
   "execution_count": 10,
   "metadata": {
    "collapsed": true
   },
   "outputs": [],
   "source": [
    "def SingleStageConvNet(x):\n",
    "    mu = 0\n",
    "    sigma = 0.1\n",
    "\n",
    "    nfilters = 108\n",
    "    # first stage - CONV + Pooling\n",
    "    # Layer 1: Convolutional. Input = 32 x 32 x 3. Output = 28x28x38.\n",
    "    conv1_W = tf.Variable(tf.truncated_normal(shape=(5, 5, 3, nfilters), mean = mu, stddev = sigma))\n",
    "    conv1_b = tf.Variable(tf.zeros(nfilters))\n",
    "    conv1   = tf.nn.conv2d(x, conv1_W, strides=[1, 1, 1, 1], padding='VALID') + conv1_b\n",
    "    \n",
    "    # Activation using non-linear tanh function\n",
    "    conv1 = tf.nn.tanh(conv1)\n",
    "\n",
    "    # Pooling/subsampling Input = 28x28x nfilters. Output = 14x14x nfilters.\n",
    "    conv1 = tf.nn.max_pool(conv1, ksize=[1, 2, 2, 1], strides=[1, 2, 2, 1], padding='VALID')\n",
    "\n",
    "    # Flatten. Input = 14x14x108. Output = 400.\n",
    "    fc0   = flatten(conv1)\n",
    "    \n",
    "    inputsz = 14*14*nfilters\n",
    "\n",
    "    # Fully Connected. Input = 400. Output = 100.\n",
    "    fc1_W = tf.Variable(tf.truncated_normal(shape=(inputsz, 100), mean = mu, stddev = sigma))\n",
    "    fc1_b = tf.Variable(tf.zeros(100))\n",
    "    fc1   = tf.matmul(fc0, fc1_W) + fc1_b\n",
    "    fc1 = tf.nn.dropout(fc1, keep_prob=0.5)\n",
    "\n",
    "\n",
    "    # Activation.\n",
    "    fc1    = tf.nn.tanh(fc1)\n",
    "\n",
    "    # Layer 4: Fully Connected. Input = 100. Output = nclasses.\n",
    "    fc2_W  = tf.Variable(tf.truncated_normal(shape=(100, n_classes), mean = mu, stddev = sigma))\n",
    "    fc2_b  = tf.Variable(tf.zeros(n_classes))\n",
    "    fc2    = tf.matmul(fc1, fc2_W) + fc2_b\n",
    "\n",
    "    # Activation.\n",
    "    logits  = tf.nn.tanh(fc2)\n",
    "    return logits\n",
    "\n"
   ]
  },
  {
   "cell_type": "code",
   "execution_count": 11,
   "metadata": {
    "collapsed": true
   },
   "outputs": [],
   "source": [
    "def batches(batch_size, features, labels):\n",
    "    assert len(features) == len(labels)\n",
    "    outout_batches = []\n",
    "    \n",
    "    sample_size = len(features)\n",
    "    for start_i in range(0, sample_size, batch_size):\n",
    "        end_i = start_i + batch_size\n",
    "        batch = [features[start_i:end_i], labels[start_i:end_i]]\n",
    "        outout_batches.append(batch)\n",
    "    \n",
    "    return outout_batches"
   ]
  },
  {
   "cell_type": "markdown",
   "metadata": {},
   "source": [
    "### Train, Validate and Test the Model"
   ]
  },
  {
   "cell_type": "markdown",
   "metadata": {},
   "source": [
    "A validation set can be used to assess how well the model is performing. A low accuracy on the training and validation\n",
    "sets imply underfitting. A high accuracy on the training set but low accuracy on the validation set implies overfitting."
   ]
  },
  {
   "cell_type": "code",
   "execution_count": 12,
   "metadata": {
    "collapsed": true
   },
   "outputs": [],
   "source": [
    "### Train your model here.\n",
    "### Calculate and report the accuracy on the training and validation set.\n",
    "### Once a final model architecture is selected, \n",
    "### the accuracy on the test set should be calculated and reported as well.\n",
    "### Feel free to use as many code cells as needed.\n",
    "\n",
    "# defining parameters\n",
    "epochs = 120\n",
    "batch_size = 150\n",
    "learn_rate = 0.2"
   ]
  },
  {
   "cell_type": "code",
   "execution_count": 13,
   "metadata": {
    "collapsed": true
   },
   "outputs": [],
   "source": [
    "# tf Graph input\n",
    "x = tf.placeholder(tf.float32, (None, image_shape[0], image_shape[1], image_shape[2]))\n",
    "y = tf.placeholder(tf.int32, (None))\n",
    "one_hot_y = tf.one_hot(y, n_classes)"
   ]
  },
  {
   "cell_type": "code",
   "execution_count": 14,
   "metadata": {
    "collapsed": true
   },
   "outputs": [],
   "source": [
    "logits = LeNet(x)\n",
    "#logits = SingleStageConvNet(x)\n",
    "# Define loss and optimizer\n",
    "cross_entropy = tf.nn.softmax_cross_entropy_with_logits(logits, one_hot_y)\n",
    "cost = tf.reduce_mean(cross_entropy)\n",
    "optimizer = tf.train.AdagradOptimizer(learning_rate=learn_rate).minimize(cost)"
   ]
  },
  {
   "cell_type": "code",
   "execution_count": 15,
   "metadata": {
    "collapsed": true
   },
   "outputs": [],
   "source": [
    "# Model evaluation\n",
    "correct_prediction = tf.equal(tf.argmax(logits, 1), tf.argmax(one_hot_y, 1))\n",
    "accuracy_operation = tf.reduce_mean(tf.cast(correct_prediction, tf.float32))\n",
    "\n",
    "def evaluation(features, labels):\n",
    "    num_samples = len(features)\n",
    "    total_accuracy = 0\n",
    "    sess = tf.get_default_session()\n",
    "    for offset in range(0, num_samples, batch_size):\n",
    "        batch_x, batch_y = features[offset:offset+batch_size], labels[offset:offset+batch_size]\n",
    "        local_accuracy = sess.run(accuracy_operation, feed_dict = {x: batch_x, y:batch_y})\n",
    "        total_accuracy += (local_accuracy * len(batch_x))\n",
    "    \n",
    "    return total_accuracy / num_samples"
   ]
  },
  {
   "cell_type": "code",
   "execution_count": 16,
   "metadata": {},
   "outputs": [
    {
     "name": "stdout",
     "output_type": "stream",
     "text": [
      "training...\n",
      "\n",
      "Epoch 1...\n",
      "Training accuracy = 0.498\n",
      "Validation accuracy = 0.456\n",
      "Epoch 2...\n",
      "Training accuracy = 0.706\n",
      "Validation accuracy = 0.667\n",
      "Epoch 3...\n",
      "Training accuracy = 0.810\n",
      "Validation accuracy = 0.740\n",
      "Epoch 4...\n",
      "Training accuracy = 0.851\n",
      "Validation accuracy = 0.790\n",
      "Epoch 5...\n",
      "Training accuracy = 0.871\n",
      "Validation accuracy = 0.814\n",
      "Epoch 6...\n",
      "Training accuracy = 0.878\n",
      "Validation accuracy = 0.815\n",
      "Epoch 7...\n",
      "Training accuracy = 0.909\n",
      "Validation accuracy = 0.853\n",
      "Epoch 8...\n",
      "Training accuracy = 0.902\n",
      "Validation accuracy = 0.836\n",
      "Epoch 9...\n",
      "Training accuracy = 0.922\n",
      "Validation accuracy = 0.864\n",
      "Epoch 10...\n",
      "Training accuracy = 0.932\n",
      "Validation accuracy = 0.864\n",
      "Epoch 11...\n",
      "Training accuracy = 0.935\n",
      "Validation accuracy = 0.883\n",
      "Epoch 12...\n",
      "Training accuracy = 0.931\n",
      "Validation accuracy = 0.863\n",
      "Epoch 13...\n",
      "Training accuracy = 0.940\n",
      "Validation accuracy = 0.884\n",
      "Epoch 14...\n",
      "Training accuracy = 0.947\n",
      "Validation accuracy = 0.888\n",
      "Epoch 15...\n",
      "Training accuracy = 0.945\n",
      "Validation accuracy = 0.896\n",
      "Epoch 16...\n",
      "Training accuracy = 0.948\n",
      "Validation accuracy = 0.884\n",
      "Epoch 17...\n",
      "Training accuracy = 0.945\n",
      "Validation accuracy = 0.884\n",
      "Epoch 18...\n",
      "Training accuracy = 0.952\n",
      "Validation accuracy = 0.898\n",
      "Epoch 19...\n",
      "Training accuracy = 0.954\n",
      "Validation accuracy = 0.900\n",
      "Epoch 20...\n",
      "Training accuracy = 0.955\n",
      "Validation accuracy = 0.891\n",
      "Epoch 21...\n",
      "Training accuracy = 0.956\n",
      "Validation accuracy = 0.899\n",
      "Epoch 22...\n",
      "Training accuracy = 0.957\n",
      "Validation accuracy = 0.892\n",
      "Epoch 23...\n",
      "Training accuracy = 0.958\n",
      "Validation accuracy = 0.902\n",
      "Epoch 24...\n",
      "Training accuracy = 0.954\n",
      "Validation accuracy = 0.902\n",
      "Epoch 25...\n",
      "Training accuracy = 0.961\n",
      "Validation accuracy = 0.902\n",
      "Epoch 26...\n",
      "Training accuracy = 0.959\n",
      "Validation accuracy = 0.895\n",
      "Epoch 27...\n",
      "Training accuracy = 0.958\n",
      "Validation accuracy = 0.898\n",
      "Epoch 28...\n",
      "Training accuracy = 0.962\n",
      "Validation accuracy = 0.907\n",
      "Epoch 29...\n",
      "Training accuracy = 0.963\n",
      "Validation accuracy = 0.905\n",
      "Epoch 30...\n",
      "Training accuracy = 0.965\n",
      "Validation accuracy = 0.912\n",
      "Epoch 31...\n",
      "Training accuracy = 0.966\n",
      "Validation accuracy = 0.910\n",
      "Epoch 32...\n",
      "Training accuracy = 0.967\n",
      "Validation accuracy = 0.914\n",
      "Epoch 33...\n",
      "Training accuracy = 0.967\n",
      "Validation accuracy = 0.906\n",
      "Epoch 34...\n",
      "Training accuracy = 0.968\n",
      "Validation accuracy = 0.907\n",
      "Epoch 35...\n",
      "Training accuracy = 0.969\n",
      "Validation accuracy = 0.913\n",
      "Epoch 36...\n",
      "Training accuracy = 0.969\n",
      "Validation accuracy = 0.915\n",
      "Epoch 37...\n",
      "Training accuracy = 0.970\n",
      "Validation accuracy = 0.910\n",
      "Epoch 38...\n",
      "Training accuracy = 0.966\n",
      "Validation accuracy = 0.914\n",
      "Epoch 39...\n",
      "Training accuracy = 0.971\n",
      "Validation accuracy = 0.908\n",
      "Epoch 40...\n",
      "Training accuracy = 0.969\n",
      "Validation accuracy = 0.909\n",
      "Epoch 41...\n",
      "Training accuracy = 0.968\n",
      "Validation accuracy = 0.912\n",
      "Epoch 42...\n",
      "Training accuracy = 0.972\n",
      "Validation accuracy = 0.919\n",
      "Epoch 43...\n",
      "Training accuracy = 0.972\n",
      "Validation accuracy = 0.914\n",
      "Epoch 44...\n",
      "Training accuracy = 0.970\n",
      "Validation accuracy = 0.914\n",
      "Epoch 45...\n",
      "Training accuracy = 0.973\n",
      "Validation accuracy = 0.911\n",
      "Epoch 46...\n",
      "Training accuracy = 0.970\n",
      "Validation accuracy = 0.907\n",
      "Epoch 47...\n",
      "Training accuracy = 0.975\n",
      "Validation accuracy = 0.916\n",
      "Epoch 48...\n",
      "Training accuracy = 0.974\n",
      "Validation accuracy = 0.916\n",
      "Epoch 49...\n",
      "Training accuracy = 0.970\n",
      "Validation accuracy = 0.902\n",
      "Epoch 50...\n",
      "Training accuracy = 0.974\n",
      "Validation accuracy = 0.917\n",
      "Epoch 51...\n",
      "Training accuracy = 0.974\n",
      "Validation accuracy = 0.917\n",
      "Epoch 52...\n",
      "Training accuracy = 0.976\n",
      "Validation accuracy = 0.918\n",
      "Epoch 53...\n",
      "Training accuracy = 0.976\n",
      "Validation accuracy = 0.924\n",
      "Epoch 54...\n",
      "Training accuracy = 0.974\n",
      "Validation accuracy = 0.914\n",
      "Epoch 55...\n",
      "Training accuracy = 0.973\n",
      "Validation accuracy = 0.917\n",
      "Epoch 56...\n",
      "Training accuracy = 0.974\n",
      "Validation accuracy = 0.913\n",
      "Epoch 57...\n",
      "Training accuracy = 0.976\n",
      "Validation accuracy = 0.922\n",
      "Epoch 58...\n",
      "Training accuracy = 0.974\n",
      "Validation accuracy = 0.916\n",
      "Epoch 59...\n",
      "Training accuracy = 0.975\n",
      "Validation accuracy = 0.919\n",
      "Epoch 60...\n",
      "Training accuracy = 0.975\n",
      "Validation accuracy = 0.915\n",
      "Epoch 61...\n",
      "Training accuracy = 0.976\n",
      "Validation accuracy = 0.915\n",
      "Epoch 62...\n",
      "Training accuracy = 0.977\n",
      "Validation accuracy = 0.918\n",
      "Epoch 63...\n",
      "Training accuracy = 0.977\n",
      "Validation accuracy = 0.921\n",
      "Epoch 64...\n",
      "Training accuracy = 0.978\n",
      "Validation accuracy = 0.918\n",
      "Epoch 65...\n",
      "Training accuracy = 0.978\n",
      "Validation accuracy = 0.920\n",
      "Epoch 66...\n",
      "Training accuracy = 0.976\n",
      "Validation accuracy = 0.912\n",
      "Epoch 67...\n",
      "Training accuracy = 0.979\n",
      "Validation accuracy = 0.922\n",
      "Epoch 68...\n",
      "Training accuracy = 0.979\n",
      "Validation accuracy = 0.918\n",
      "Epoch 69...\n",
      "Training accuracy = 0.976\n",
      "Validation accuracy = 0.919\n",
      "Epoch 70...\n",
      "Training accuracy = 0.977\n",
      "Validation accuracy = 0.912\n",
      "Epoch 71...\n",
      "Training accuracy = 0.977\n",
      "Validation accuracy = 0.910\n",
      "Epoch 72...\n",
      "Training accuracy = 0.979\n",
      "Validation accuracy = 0.915\n",
      "Epoch 73...\n",
      "Training accuracy = 0.979\n",
      "Validation accuracy = 0.918\n",
      "Epoch 74...\n",
      "Training accuracy = 0.977\n",
      "Validation accuracy = 0.917\n",
      "Epoch 75...\n",
      "Training accuracy = 0.981\n",
      "Validation accuracy = 0.923\n",
      "Epoch 76...\n",
      "Training accuracy = 0.979\n",
      "Validation accuracy = 0.916\n",
      "Epoch 77...\n",
      "Training accuracy = 0.979\n",
      "Validation accuracy = 0.920\n",
      "Epoch 78...\n",
      "Training accuracy = 0.979\n",
      "Validation accuracy = 0.917\n",
      "Epoch 79...\n",
      "Training accuracy = 0.981\n",
      "Validation accuracy = 0.923\n",
      "Epoch 80...\n",
      "Training accuracy = 0.978\n",
      "Validation accuracy = 0.916\n",
      "Epoch 81...\n",
      "Training accuracy = 0.980\n",
      "Validation accuracy = 0.928\n",
      "Epoch 82...\n",
      "Training accuracy = 0.978\n",
      "Validation accuracy = 0.915\n",
      "Epoch 83...\n",
      "Training accuracy = 0.972\n",
      "Validation accuracy = 0.917\n",
      "Epoch 84...\n",
      "Training accuracy = 0.981\n",
      "Validation accuracy = 0.923\n",
      "Epoch 85...\n",
      "Training accuracy = 0.981\n",
      "Validation accuracy = 0.924\n",
      "Epoch 86...\n",
      "Training accuracy = 0.980\n",
      "Validation accuracy = 0.924\n",
      "Epoch 87...\n",
      "Training accuracy = 0.982\n",
      "Validation accuracy = 0.927\n",
      "Epoch 88...\n",
      "Training accuracy = 0.977\n",
      "Validation accuracy = 0.920\n",
      "Epoch 89...\n",
      "Training accuracy = 0.982\n",
      "Validation accuracy = 0.925\n",
      "Epoch 90...\n",
      "Training accuracy = 0.982\n",
      "Validation accuracy = 0.927\n",
      "Epoch 91...\n",
      "Training accuracy = 0.982\n",
      "Validation accuracy = 0.922\n",
      "Epoch 92...\n",
      "Training accuracy = 0.980\n",
      "Validation accuracy = 0.917\n",
      "Epoch 93...\n",
      "Training accuracy = 0.981\n",
      "Validation accuracy = 0.923\n",
      "Epoch 94...\n",
      "Training accuracy = 0.982\n",
      "Validation accuracy = 0.928\n",
      "Epoch 95...\n",
      "Training accuracy = 0.981\n",
      "Validation accuracy = 0.926\n",
      "Epoch 96...\n",
      "Training accuracy = 0.980\n",
      "Validation accuracy = 0.923\n",
      "Epoch 97...\n",
      "Training accuracy = 0.982\n",
      "Validation accuracy = 0.923\n",
      "Epoch 98...\n",
      "Training accuracy = 0.981\n",
      "Validation accuracy = 0.922\n",
      "Epoch 99...\n",
      "Training accuracy = 0.979\n",
      "Validation accuracy = 0.916\n",
      "Epoch 100...\n",
      "Training accuracy = 0.980\n",
      "Validation accuracy = 0.925\n",
      "Epoch 101...\n",
      "Training accuracy = 0.981\n",
      "Validation accuracy = 0.920\n",
      "Epoch 102...\n",
      "Training accuracy = 0.984\n",
      "Validation accuracy = 0.925\n",
      "Epoch 103...\n",
      "Training accuracy = 0.982\n",
      "Validation accuracy = 0.925\n",
      "Epoch 104...\n",
      "Training accuracy = 0.984\n",
      "Validation accuracy = 0.926\n",
      "Epoch 105...\n",
      "Training accuracy = 0.982\n",
      "Validation accuracy = 0.928\n",
      "Epoch 106...\n",
      "Training accuracy = 0.978\n",
      "Validation accuracy = 0.920\n",
      "Epoch 107...\n",
      "Training accuracy = 0.981\n",
      "Validation accuracy = 0.924\n",
      "Epoch 108...\n",
      "Training accuracy = 0.980\n",
      "Validation accuracy = 0.920\n",
      "Epoch 109...\n",
      "Training accuracy = 0.985\n",
      "Validation accuracy = 0.928\n",
      "Epoch 110...\n",
      "Training accuracy = 0.984\n",
      "Validation accuracy = 0.927\n",
      "Epoch 111...\n",
      "Training accuracy = 0.982\n",
      "Validation accuracy = 0.927\n",
      "Epoch 112...\n",
      "Training accuracy = 0.984\n",
      "Validation accuracy = 0.933\n",
      "Epoch 113...\n",
      "Training accuracy = 0.982\n",
      "Validation accuracy = 0.922\n",
      "Epoch 114...\n",
      "Training accuracy = 0.984\n",
      "Validation accuracy = 0.931\n",
      "Epoch 115...\n",
      "Training accuracy = 0.983\n",
      "Validation accuracy = 0.922\n",
      "Epoch 116...\n",
      "Training accuracy = 0.985\n",
      "Validation accuracy = 0.929\n",
      "Epoch 117...\n",
      "Training accuracy = 0.984\n",
      "Validation accuracy = 0.926\n",
      "Epoch 118...\n",
      "Training accuracy = 0.982\n",
      "Validation accuracy = 0.920\n",
      "Epoch 119...\n",
      "Training accuracy = 0.982\n",
      "Validation accuracy = 0.927\n",
      "Epoch 120...\n",
      "Training accuracy = 0.983\n",
      "Validation accuracy = 0.927\n",
      "Model saved\n"
     ]
    }
   ],
   "source": [
    "# Initializing the variables\n",
    "init = tf.global_variables_initializer()\n",
    "save_file = './trainedmodel.ckpt'\n",
    "saver = tf.train.Saver()\n",
    "\n",
    "# Launch the graph\n",
    "with tf.Session() as sess:\n",
    "    sess.run(init)\n",
    "    # Training cycle   \n",
    "    print(\"training...\")\n",
    "    print()\n",
    "    for epoch_i in range(epochs):\n",
    "        X_train_norm, y_train = shuffle(X_train_norm, y_train)\n",
    "        # Loop over all batches\n",
    "        num_examples = len(X_train_norm)\n",
    "        for offset in range(0, num_examples, batch_size):\n",
    "            end = offset + batch_size\n",
    "            batch_x = X_train_norm[offset:end]\n",
    "            batch_y = y_train[offset:end]\n",
    "            train_feed_dict = {\n",
    "                x: batch_x,\n",
    "                y: batch_y}\n",
    "            sess.run(optimizer, feed_dict=train_feed_dict)\n",
    "\n",
    "        # Print cost and validation accuracy of an epoch\n",
    "        validation_accuracy = evaluation(X_valid_norm, y_valid)\n",
    "        train_accuracy = evaluation(X_train_norm, y_train)\n",
    "        print(\"Epoch {}...\".format(epoch_i + 1))\n",
    "        print(\"Training accuracy = {:.3f}\".format(train_accuracy))\n",
    "        print(\"Validation accuracy = {:.3f}\".format(validation_accuracy))\n",
    "        \n",
    "\n",
    "    saver.save(sess, save_file)\n",
    "    print('Model saved')        "
   ]
  },
  {
   "cell_type": "markdown",
   "metadata": {},
   "source": [
    "---\n",
    "\n",
    "## Step 3: Test a Model on New Images\n",
    "\n",
    "To give yourself more insight into how your model is working, download at least five pictures of German traffic signs from the web and use your model to predict the traffic sign type.\n",
    "\n",
    "You may find `signnames.csv` useful as it contains mappings from the class id (integer) to the actual sign name."
   ]
  },
  {
   "cell_type": "markdown",
   "metadata": {},
   "source": [
    "### Load and Output the Images"
   ]
  },
  {
   "cell_type": "code",
   "execution_count": 33,
   "metadata": {},
   "outputs": [
    {
     "data": {
      "text/plain": [
       "<matplotlib.image.AxesImage at 0x7f0a8fb5a080>"
      ]
     },
     "execution_count": 33,
     "metadata": {},
     "output_type": "execute_result"
    },
    {
     "data": {
      "image/png": "[encoded data removed]",
      "text/plain": [
       "<matplotlib.figure.Figure at 0x7f0ad7f8bd30>"
      ]
     },
     "metadata": {},
     "output_type": "display_data"
    }
   ],
   "source": [
    "### Load the images and plot them here.\n",
    "import imageio\n",
    "import cv2\n",
    "file_name = './GTSRB/Final_Test/Images/00001.ppm'\n",
    "test_img1 = imageio.imread(file_name)\n",
    "test_img1 = cv2.resize(test_img1, (32, 32)) \n",
    "plt.imshow(resized_image)"
   ]
  },
  {
   "cell_type": "code",
   "execution_count": 34,
   "metadata": {},
   "outputs": [
    {
     "name": "stdout",
     "output_type": "stream",
     "text": [
      "(32, 32, 3)\n"
     ]
    },
    {
     "data": {
      "text/plain": [
       "<matplotlib.image.AxesImage at 0x7f0a7c088470>"
      ]
     },
     "execution_count": 34,
     "metadata": {},
     "output_type": "execute_result"
    },
    {
     "data": {
      "image/png": "[encoded data removed]",
      "text/plain": [
       "<matplotlib.figure.Figure at 0x7f0a8fb67198>"
      ]
     },
     "metadata": {},
     "output_type": "display_data"
    }
   ],
   "source": [
    "file_name = './GTSRB/Final_Test/Images/12353.ppm'\n",
    "test_img2 = imageio.imread(file_name)\n",
    "test_img2 = cv2.resize(test_img2, (32, 32)) \n",
    "print(test_img2.shape)\n",
    "plt.imshow(test_img2)"
   ]
  },
  {
   "cell_type": "code",
   "execution_count": 35,
   "metadata": {},
   "outputs": [
    {
     "name": "stdout",
     "output_type": "stream",
     "text": [
      "(32, 32, 3)\n"
     ]
    },
    {
     "data": {
      "text/plain": [
       "<matplotlib.image.AxesImage at 0x7f0a7c042828>"
      ]
     },
     "execution_count": 35,
     "metadata": {},
     "output_type": "execute_result"
    },
    {
     "data": {
      "image/png": "[encoded data removed]",
      "text/plain": [
       "<matplotlib.figure.Figure at 0x7f0a8fc35cc0>"
      ]
     },
     "metadata": {},
     "output_type": "display_data"
    }
   ],
   "source": [
    "file_name = './GTSRB/Final_Test/Images/00353.ppm'\n",
    "test_img3 = imageio.imread(file_name)\n",
    "test_img3 = cv2.resize(test_img3, (32, 32)) \n",
    "print(test_img3.shape)\n",
    "plt.imshow(test_img3)"
   ]
  },
  {
   "cell_type": "code",
   "execution_count": 36,
   "metadata": {},
   "outputs": [
    {
     "name": "stdout",
     "output_type": "stream",
     "text": [
      "(32, 32, 3)\n"
     ]
    },
    {
     "data": {
      "text/plain": [
       "<matplotlib.image.AxesImage at 0x7f0a5efcebe0>"
      ]
     },
     "execution_count": 36,
     "metadata": {},
     "output_type": "execute_result"
    },
    {
     "data": {
      "image/png": "[encoded data removed]",
      "text/plain": [
       "<matplotlib.figure.Figure at 0x7f0a7c033748>"
      ]
     },
     "metadata": {},
     "output_type": "display_data"
    }
   ],
   "source": [
    "file_name = './GTSRB/Final_Test/Images/09863.ppm'\n",
    "test_img4 = imageio.imread(file_name)\n",
    "test_img4 = cv2.resize(test_img4, (32, 32)) \n",
    "print(test_img4.shape)\n",
    "plt.imshow(test_img4)"
   ]
  },
  {
   "cell_type": "code",
   "execution_count": 37,
   "metadata": {},
   "outputs": [
    {
     "name": "stdout",
     "output_type": "stream",
     "text": [
      "(32, 32, 3)\n"
     ]
    },
    {
     "data": {
      "text/plain": [
       "<matplotlib.image.AxesImage at 0x7f0a5ef89f98>"
      ]
     },
     "execution_count": 37,
     "metadata": {},
     "output_type": "execute_result"
    },
    {
     "data": {
      "image/png": "[encoded data removed]",
      "text/plain": [
       "<matplotlib.figure.Figure at 0x7f0a8fb3f828>"
      ]
     },
     "metadata": {},
     "output_type": "display_data"
    }
   ],
   "source": [
    "file_name = './GTSRB/Final_Test/Images/05524.ppm'\n",
    "test_img5 = imageio.imread(file_name)\n",
    "test_img5 = cv2.resize(test_img5, (32, 32)) \n",
    "print(test_img5.shape)\n",
    "plt.imshow(test_img5)"
   ]
  },
  {
   "cell_type": "code",
   "execution_count": 38,
   "metadata": {},
   "outputs": [],
   "source": [
    "# Constructing features and labels for the images\n",
    "\n",
    "img1_feature = rgb2yuvsingle(test_img1)\n",
    "img2_feature = rgb2yuvsingle(test_img2)\n",
    "img3_feature = rgb2yuvsingle(test_img3)\n",
    "img4_feature = rgb2yuvsingle(test_img4)\n",
    "img5_feature = rgb2yuvsingle(test_img5)\n",
    "img1_label = 1\n",
    "img2_label = 36\n",
    "img3_label = 14\n",
    "img4_label = 8\n",
    "img5_label = 31"
   ]
  },
  {
   "cell_type": "code",
   "execution_count": 41,
   "metadata": {},
   "outputs": [],
   "source": [
    "test_features = np.stack((img1_feature,img2_feature ,img3_feature ,img4_feature ,img5_feature))\n",
    "test_labels = np.stack((img1_label,img2_label,img3_label,img4_label,img5_label))\n"
   ]
  },
  {
   "cell_type": "markdown",
   "metadata": {},
   "source": [
    "### Predict the Sign Type for Each Image"
   ]
  },
  {
   "cell_type": "code",
   "execution_count": 47,
   "metadata": {},
   "outputs": [],
   "source": [
    "### Run the predictions here and use the model to output the prediction for each image.\n",
    "### Make sure to pre-process the images with the same pre-processing pipeline used earlier.\n",
    "### Feel free to use as many code cells as needed.\n",
    "\n",
    "with tf.Session() as sess:\n",
    "    saver.restore(sess, save_file)\n",
    "    test_accuracy = sess.run(accuracy_operation, feed_dict={x: test_features, y: test_labels})\n",
    "    "
   ]
  },
  {
   "cell_type": "markdown",
   "metadata": {},
   "source": [
    "### Analyze Performance"
   ]
  },
  {
   "cell_type": "code",
   "execution_count": 48,
   "metadata": {},
   "outputs": [
    {
     "name": "stdout",
     "output_type": "stream",
     "text": [
      "Test Accuracy: 1.0\n"
     ]
    }
   ],
   "source": [
    "### Calculate the accuracy for these 5 new images. \n",
    "### For example, if the model predicted 1 out of 5 signs correctly, it's 20% accurate on these new images.\n",
    "print('Test Accuracy: {}'.format(test_accuracy))"
   ]
  },
  {
   "cell_type": "markdown",
   "metadata": {},
   "source": [
    "### Output Top 5 Softmax Probabilities For Each Image Found on the Web"
   ]
  },
  {
   "cell_type": "markdown",
   "metadata": {},
   "source": [
    "For each of the new images, print out the model's softmax probabilities to show the **certainty** of the model's predictions (limit the output to the top 5 probabilities for each image). [`tf.nn.top_k`](https://www.tensorflow.org/versions/r0.12/api_docs/python/nn.html#top_k) could prove helpful here. \n",
    "\n",
    "The example below demonstrates how tf.nn.top_k can be used to find the top k predictions for each image.\n",
    "\n",
    "`tf.nn.top_k` will return the values and indices (class ids) of the top k predictions. So if k=3, for each sign, it'll return the 3 largest probabilities (out of a possible 43) and the correspoding class ids.\n",
    "\n",
    "Take this numpy array as an example. The values in the array represent predictions. The array contains softmax probabilities for five candidate images with six possible classes. `tf.nn.top_k` is used to choose the three classes with the highest probability:\n",
    "\n",
    "```\n",
    "# (5, 6) array\n",
    "a = np.array([[ 0.24879643,  0.07032244,  0.12641572,  0.34763842,  0.07893497,\n",
    "         0.12789202],\n",
    "       [ 0.28086119,  0.27569815,  0.08594638,  0.0178669 ,  0.18063401,\n",
    "         0.15899337],\n",
    "       [ 0.26076848,  0.23664738,  0.08020603,  0.07001922,  0.1134371 ,\n",
    "         0.23892179],\n",
    "       [ 0.11943333,  0.29198961,  0.02605103,  0.26234032,  0.1351348 ,\n",
    "         0.16505091],\n",
    "       [ 0.09561176,  0.34396535,  0.0643941 ,  0.16240774,  0.24206137,\n",
    "         0.09155967]])\n",
    "```\n",
    "\n",
    "Running it through `sess.run(tf.nn.top_k(tf.constant(a), k=3))` produces:\n",
    "\n",
    "```\n",
    "TopKV2(values=array([[ 0.34763842,  0.24879643,  0.12789202],\n",
    "       [ 0.28086119,  0.27569815,  0.18063401],\n",
    "       [ 0.26076848,  0.23892179,  0.23664738],\n",
    "       [ 0.29198961,  0.26234032,  0.16505091],\n",
    "       [ 0.34396535,  0.24206137,  0.16240774]]), indices=array([[3, 0, 5],\n",
    "       [0, 1, 4],\n",
    "       [0, 5, 1],\n",
    "       [1, 3, 5],\n",
    "       [1, 4, 3]], dtype=int32))\n",
    "```\n",
    "\n",
    "Looking just at the first row we get `[ 0.34763842,  0.24879643,  0.12789202]`, you can confirm these are the 3 largest probabilities in `a`. You'll also notice `[3, 0, 5]` are the corresponding indices."
   ]
  },
  {
   "cell_type": "code",
   "execution_count": 49,
   "metadata": {},
   "outputs": [
    {
     "name": "stdout",
     "output_type": "stream",
     "text": [
      "TopKV2(values=array([[ 92.5812912 ,  60.52108002,  48.94846725,  24.33661461,  23.963274  ],\n",
      "       [ 29.29001045,  16.32788277,  16.0036068 ,  12.75685406,\n",
      "          9.35951233],\n",
      "       [ 79.74671173,  44.77118683,  36.39020538,  29.23972702,\n",
      "         21.12156105],\n",
      "       [ 47.2084198 ,  25.48158455,  20.79838753,  17.5066185 ,\n",
      "         14.29689884],\n",
      "       [ 33.02759933,  28.32553101,  20.01595306,  18.73771095,  16.5369854 ]], dtype=float32), indices=array([[ 1,  2,  4,  7, 25],\n",
      "       [36, 28, 35,  6, 41],\n",
      "       [14, 15, 17, 28,  3],\n",
      "       [ 8,  0,  7,  4, 17],\n",
      "       [31, 21, 19, 23, 27]], dtype=int32))\n"
     ]
    }
   ],
   "source": [
    "### Print out the top five softmax probabilities for the predictions on the German traffic sign images found on the web. \n",
    "### Feel free to use as many code cells as needed.\n",
    "\n",
    "with tf.Session() as sess:\n",
    "    saver.restore(sess, save_file)\n",
    "    out_logits = sess.run(logits, feed_dict={x: test_features, y: test_labels})\n",
    "    result = sess.run(tf.nn.top_k(out_logits, k=5)) \n",
    "    print(result)\n",
    "    "
   ]
  },
  {
   "cell_type": "markdown",
   "metadata": {},
   "source": [
    "### Project Writeup\n",
    "\n",
    "Once you have completed the code implementation, document your results in a project writeup using this [template](https://github.com/udacity/CarND-Traffic-Sign-Classifier-Project/blob/master/writeup_template.md) as a guide. The writeup can be in a markdown or pdf file. "
   ]
  },
  {
   "cell_type": "markdown",
   "metadata": {},
   "source": [
    "> **Note**: Once you have completed all of the code implementations and successfully answered each question above, you may finalize your work by exporting the iPython Notebook as an HTML document. You can do this by using the menu above and navigating to  \\n\",\n",
    "    \"**File -> Download as -> HTML (.html)**. Include the finished document along with this notebook as your submission."
   ]
  },
  {
   "cell_type": "markdown",
   "metadata": {},
   "source": [
    "---\n",
    "\n",
    "## Step 4 (Optional): Visualize the Neural Network's State with Test Images\n",
    "\n",
    " This Section is not required to complete but acts as an additional excersise for understaning the output of a neural network's weights. While neural networks can be a great learning device they are often referred to as a black box. We can understand what the weights of a neural network look like better by plotting their feature maps. After successfully training your neural network you can see what it's feature maps look like by plotting the output of the network's weight layers in response to a test stimuli image. From these plotted feature maps, it's possible to see what characteristics of an image the network finds interesting. For a sign, maybe the inner network feature maps react with high activation to the sign's boundary outline or to the contrast in the sign's painted symbol.\n",
    "\n",
    " Provided for you below is the function code that allows you to get the visualization output of any tensorflow weight layer you want. The inputs to the function should be a stimuli image, one used during training or a new one you provided, and then the tensorflow variable name that represents the layer's state during the training process, for instance if you wanted to see what the [LeNet lab's](https://classroom.udacity.com/nanodegrees/nd013/parts/fbf77062-5703-404e-b60c-95b78b2f3f9e/modules/6df7ae49-c61c-4bb2-a23e-6527e69209ec/lessons/601ae704-1035-4287-8b11-e2c2716217ad/concepts/d4aca031-508f-4e0b-b493-e7b706120f81) feature maps looked like for it's second convolutional layer you could enter conv2 as the tf_activation variable.\n",
    "\n",
    "For an example of what feature map outputs look like, check out NVIDIA's results in their paper [End-to-End Deep Learning for Self-Driving Cars](https://devblogs.nvidia.com/parallelforall/deep-learning-self-driving-cars/) in the section Visualization of internal CNN State. NVIDIA was able to show that their network's inner weights had high activations to road boundary lines by comparing feature maps from an image with a clear path to one without. Try experimenting with a similar test to show that your trained network's weights are looking for interesting features, whether it's looking at differences in feature maps from images with or without a sign, or even what feature maps look like in a trained network vs a completely untrained one on the same sign image.\n",
    "\n",
    "<figure>\n",
    " <img src=\"visualize_cnn.png\" width=\"380\" alt=\"Combined Image\" />\n",
    " <figcaption>\n",
    " <p></p> \n",
    " <p style=\"text-align: center;\"> Your output should look something like this (above)</p> \n",
    " </figcaption>\n",
    "</figure>\n",
    " <p></p> \n"
   ]
  },
  {
   "cell_type": "code",
   "execution_count": null,
   "metadata": {
    "collapsed": true
   },
   "outputs": [],
   "source": [
    "### Visualize your network's feature maps here.\n",
    "### Feel free to use as many code cells as needed.\n",
    "\n",
    "# image_input: the test image being fed into the network to produce the feature maps\n",
    "# tf_activation: should be a tf variable name used during your training procedure that represents the calculated state of a specific weight layer\n",
    "# activation_min/max: can be used to view the activation contrast in more detail, by default matplot sets min and max to the actual min and max values of the output\n",
    "# plt_num: used to plot out multiple different weight feature map sets on the same block, just extend the plt number for each new feature map entry\n",
    "\n",
    "def outputFeatureMap(image_input, tf_activation, activation_min=-1, activation_max=-1 ,plt_num=1):\n",
    "    # Here make sure to preprocess your image_input in a way your network expects\n",
    "    # with size, normalization, ect if needed\n",
    "    # image_input =\n",
    "    # Note: x should be the same name as your network's tensorflow data placeholder variable\n",
    "    # If you get an error tf_activation is not defined it may be having trouble accessing the variable from inside a function\n",
    "    activation = tf_activation.eval(session=sess,feed_dict={x : image_input})\n",
    "    featuremaps = activation.shape[3]\n",
    "    plt.figure(plt_num, figsize=(15,15))\n",
    "    for featuremap in range(featuremaps):\n",
    "        plt.subplot(6,8, featuremap+1) # sets the number of feature maps to show on each row and column\n",
    "        plt.title('FeatureMap ' + str(featuremap)) # displays the feature map number\n",
    "        if activation_min != -1 & activation_max != -1:\n",
    "            plt.imshow(activation[0,:,:, featuremap], interpolation=\"nearest\", vmin =activation_min, vmax=activation_max, cmap=\"gray\")\n",
    "        elif activation_max != -1:\n",
    "            plt.imshow(activation[0,:,:, featuremap], interpolation=\"nearest\", vmax=activation_max, cmap=\"gray\")\n",
    "        elif activation_min !=-1:\n",
    "            plt.imshow(activation[0,:,:, featuremap], interpolation=\"nearest\", vmin=activation_min, cmap=\"gray\")\n",
    "        else:\n",
    "            plt.imshow(activation[0,:,:, featuremap], interpolation=\"nearest\", cmap=\"gray\")"
   ]
  }
 ],
 "metadata": {
  "anaconda-cloud": {},
  "kernelspec": {
   "display_name": "Python 3",
   "language": "python",
   "name": "python3"
  },
  "language_info": {
   "codemirror_mode": {
    "name": "ipython",
    "version": 3
   },
   "file_extension": ".py",
   "mimetype": "text/x-python",
   "name": "python",
   "nbconvert_exporter": "python",
   "pygments_lexer": "ipython3",
   "version": "3.5.2"
  },
  "widgets": {
   "state": {},
   "version": "1.1.2"
  }
 },
 "nbformat": 4,
 "nbformat_minor": 1
}
